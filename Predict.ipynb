{
 "cells": [
  {
   "cell_type": "code",
   "execution_count": 2,
   "metadata": {
    "scrolled": true
   },
   "outputs": [
    {
     "name": "stderr",
     "output_type": "stream",
     "text": [
      "/home/giorgos/anaconda3/envs/tensorflow/lib/python3.7/site-packages/tensorflow/python/client/session.py:1735: UserWarning: An interactive session is already active. This can cause out-of-memory errors in some cases. You must explicitly call `InteractiveSession.close()` to release resources held by the other session(s).\n",
      "  warnings.warn('An interactive session is already active. This can '\n"
     ]
    }
   ],
   "source": [
    "import tensorflow as tf\n",
    "from tensorflow import keras\n",
    "from tensorflow.keras import layers\n",
    "from sklearn.model_selection import train_test_split\n",
    "from sklearn.metrics import accuracy_score\n",
    "import os\n",
    "import numpy as np\n",
    "import cv2\n",
    "import matplotlib.pyplot as plt\n"
   ]
  },
  {
   "cell_type": "code",
   "execution_count": null,
   "metadata": {},
   "outputs": [],
   "source": [
    "physical_devices = tf.config.experimental.list_physical_devices('GPU')\n",
    "\n",
    "config = tf.compat.v1.ConfigProto()\n",
    "config.gpu_options.allow_growth = True\n",
    "sess = tf.compat.v1.InteractiveSession(config=config)\n",
    "\n",
    "os.environ['TF_CPP_MIN_LOG_LEVEL'] = '3'"
   ]
  },
  {
   "cell_type": "code",
   "execution_count": null,
   "metadata": {},
   "outputs": [],
   "source": [
    "nn = keras.models.load_model(\"model/nn.h5\",compile=False)\n",
    "nn.compile(loss='categorical_crossentropy',optimizer = keras.optimizers.SGD(lr=0.001,momentum=0.8),metrics=['accuracy'])\n",
    "class_indices = {0:\"Mask\",1:\"No Mask\"}"
   ]
  },
  {
   "cell_type": "code",
   "execution_count": 40,
   "metadata": {},
   "outputs": [],
   "source": [
    "colors = {\"Mask\":(0,255,0),\"No Mask\":(0,0,255)}\n",
    "            \n",
    "font = cv2.FONT_HERSHEY_SIMPLEX \n",
    "  \n",
    "org = (50, 50) \n",
    "\n",
    "fontScale = 1\n",
    "\n",
    "thickness = 2\n",
    "\n",
    "video_capture = cv2.VideoCapture(0)\n",
    "window_name = \"Mask Detection\"\n",
    "\n",
    "if not video_capture.isOpened():\n",
    "    raise IOError(\"Cannot open webcam\")\n",
    "else:\n",
    "    while True:\n",
    "\n",
    "        ret, frame = video_capture.read()\n",
    "\n",
    "        gray = cv2.cvtColor(frame, cv2.COLOR_BGR2GRAY)\n",
    "            \n",
    "        gray = cv2.resize(gray,(128,128))\n",
    "        gray = np.array(gray)\n",
    "        gray = gray / 255\n",
    "            \n",
    "        gray = gray.reshape(1,128,128,1)\n",
    "\n",
    "\n",
    "        pred = class_indices[nn.predict(gray).argmax(axis=1)[0]]\n",
    "        frame = cv2.putText(frame, pred, org, font,  \n",
    "                               fontScale, colors[pred], thickness, cv2.LINE_AA)\n",
    "            \n",
    "        cv2.imshow(window_name,frame)\n",
    "            \n",
    "        c = cv2.waitKey(1)\n",
    "        if c == 27:\n",
    "            break\n",
    "                  \n",
    "video_capture.release()\n",
    "cv2.destroyAllWindows()"
   ]
  }
 ],
 "metadata": {
  "kernelspec": {
   "display_name": "Python 3",
   "language": "python",
   "name": "python3"
  },
  "language_info": {
   "codemirror_mode": {
    "name": "ipython",
    "version": 3
   },
   "file_extension": ".py",
   "mimetype": "text/x-python",
   "name": "python",
   "nbconvert_exporter": "python",
   "pygments_lexer": "ipython3",
   "version": "3.7.8"
  },
  "latex_envs": {
   "LaTeX_envs_menu_present": true,
   "autoclose": false,
   "autocomplete": true,
   "bibliofile": "biblio.bib",
   "cite_by": "apalike",
   "current_citInitial": 1,
   "eqLabelWithNumbers": true,
   "eqNumInitial": 1,
   "hotkeys": {
    "equation": "Ctrl-E",
    "itemize": "Ctrl-I"
   },
   "labels_anchors": false,
   "latex_user_defs": false,
   "report_style_numbering": false,
   "user_envs_cfg": false
  }
 },
 "nbformat": 4,
 "nbformat_minor": 4
}
